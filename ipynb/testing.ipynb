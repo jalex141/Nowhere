{
 "cells": [
  {
   "cell_type": "code",
   "execution_count": 2,
   "id": "cb7fd047",
   "metadata": {},
   "outputs": [
    {
     "data": {
      "text/plain": [
       "True"
      ]
     },
     "execution_count": 2,
     "metadata": {},
     "output_type": "execute_result"
    }
   ],
   "source": [
    "import requests\n",
    "import json\n",
    "from dotenv import load_dotenv\n",
    "import os\n",
    "import pandas as pd\n",
    "import pyjsonviewer\n",
    "load_dotenv()"
   ]
  },
  {
   "cell_type": "code",
   "execution_count": 3,
   "id": "8cf69613",
   "metadata": {},
   "outputs": [],
   "source": [
    "client_id = os.getenv(\"tok1\")\n",
    "client_secret = os.getenv(\"tok2\")\n",
    "dondebuscamos = geocode(\"Paseo de la chopera 14, Madrid\")\n",
    "url_query = 'https://api.foursquare.com/v2/venues/explore'\n",
    "parametros = {\n",
    "    \"client_id\": client_id,\n",
    "    \"client_secret\": client_secret,\n",
    "    \"v\": \"20180323\",\n",
    "    \"ll\": f\"{dondebuscamos['coordinates'][0]}, {dondebuscamos['coordinates'][1]}\",\n",
    "    \"query\": \"Frutería\",\n",
    "    \"limit\": 200   \n",
    "}\n",
    "resp = requests.get(url_query, params=parametros).json()"
   ]
  },
  {
   "cell_type": "code",
   "execution_count": null,
   "id": "527a36e7",
   "metadata": {},
   "outputs": [],
   "source": [
    "pyjsonviewer.view_data(json_data=resp)"
   ]
  },
  {
   "cell_type": "code",
   "execution_count": 4,
   "id": "1e6cf330",
   "metadata": {},
   "outputs": [],
   "source": [
    "from pymongo import MongoClient\n",
    "client = MongoClient(\"mongodb://localhost/companies\")\n",
    "db=client.get_database(\"companies\")\n",
    "c = db.get_collection(\"companies\")\n"
   ]
  },
  {
   "cell_type": "code",
   "execution_count": null,
   "id": "25cba615",
   "metadata": {},
   "outputs": [],
   "source": [
    "from pymongo import GEOSPHERE"
   ]
  },
  {
   "cell_type": "code",
   "execution_count": null,
   "id": "cb919069",
   "metadata": {},
   "outputs": [],
   "source": [
    "query = [{\n",
    "        '$geoNear': {'near': [la_lat_lon[1],la_lat_lon[0]],\n",
    "            'distanceField': 'distancia',\n",
    "            'maxDistance': 10000,\n",
    "            'query': { 'nombre': {'$regex':'Starbucks' }},\n",
    "            'distanceMultiplier': 6371.137,\n",
    "            #'includeLocs': \"dist.location\",\n",
    "            'spherical': True,\n",
    "            }\n",
    "        }]"
   ]
  },
  {
   "cell_type": "code",
   "execution_count": null,
   "id": "1cd43efa",
   "metadata": {},
   "outputs": [],
   "source": [
    "db.barrios.create_index([(\"geometry\", GEOSPHERE)])\n",
    "b = db.get_collection(\"barrios\")"
   ]
  },
  {
   "cell_type": "code",
   "execution_count": 8,
   "id": "e55d94c0",
   "metadata": {
    "scrolled": false
   },
   "outputs": [],
   "source": [
    "proj ={\"name\":1, \"offices.country_code\":1,\"offices.latitude\":1,\n",
    "       \"offices.longitude\":1,\"_id\":0}\n",
    "cond1 ={\"tag_list\":{\"$regex\": \"games\"}}\n",
    "cond2 ={\"total_money_raised\": {\"$regex\":\"\\d.M\"}}\n",
    "seeds = list(c.find({\"$and\":[cond1,cond2]}, proj).sort(\"total_money_raised\",-1))"
   ]
  },
  {
   "cell_type": "code",
   "execution_count": 12,
   "id": "28aad2fa",
   "metadata": {},
   "outputs": [
    {
     "data": {
      "text/plain": [
       "16"
      ]
     },
     "execution_count": 12,
     "metadata": {},
     "output_type": "execute_result"
    }
   ],
   "source": [
    "len(seeds)"
   ]
  },
  {
   "cell_type": "code",
   "execution_count": 14,
   "id": "26f5306c",
   "metadata": {},
   "outputs": [
    {
     "data": {
      "text/plain": [
       "[{'name': 'Bigpoint',\n",
       "  'offices': [{'country_code': 'DEU',\n",
       "    'latitude': 53.5973055,\n",
       "    'longitude': 9.9762519}]},\n",
       " {'name': 'eRepublik',\n",
       "  'offices': [{'country_code': 'ESP',\n",
       "    'latitude': 40.43094,\n",
       "    'longitude': -3.6952896}]},\n",
       " {'name': 'Apaja',\n",
       "  'offices': [{'country_code': 'FIN',\n",
       "    'latitude': 60.171821,\n",
       "    'longitude': 24.945167}]},\n",
       " {'name': 'Zynga',\n",
       "  'offices': [{'country_code': 'USA',\n",
       "    'latitude': 37.765158,\n",
       "    'longitude': -122.404234}]},\n",
       " {'name': 'WildTangent',\n",
       "  'offices': [{'country_code': 'USA',\n",
       "    'latitude': 37.09024,\n",
       "    'longitude': -95.712891}]},\n",
       " {'name': 'Heyzap',\n",
       "  'offices': [{'country_code': 'USA',\n",
       "    'latitude': 37.7905538,\n",
       "    'longitude': -122.4041485}]},\n",
       " {'name': 'Metacafe',\n",
       "  'offices': [{'country_code': 'USA',\n",
       "    'latitude': 37.437328,\n",
       "    'longitude': -122.159928}]},\n",
       " {'name': 'Zango',\n",
       "  'offices': [{'country_code': 'USA',\n",
       "    'latitude': 47.579208,\n",
       "    'longitude': -122.155668}]},\n",
       " {'name': 'Hands-On Mobile',\n",
       "  'offices': [{'country_code': 'USA',\n",
       "    'latitude': 37.775196,\n",
       "    'longitude': -122.419204}]},\n",
       " {'name': 'FlowPlay',\n",
       "  'offices': [{'country_code': 'USA',\n",
       "    'latitude': 47.6015315,\n",
       "    'longitude': -122.335943}]},\n",
       " {'name': 'Playfish',\n",
       "  'offices': [{'country_code': 'GBR',\n",
       "    'latitude': 51.4991094,\n",
       "    'longitude': -0.1984802},\n",
       "   {'country_code': 'NOR', 'latitude': 69.636216, 'longitude': 18.931062}]},\n",
       " {'name': 'PurePlay',\n",
       "  'offices': [{'country_code': 'USA',\n",
       "    'latitude': 37.775196,\n",
       "    'longitude': -122.419204}]},\n",
       " {'name': 'Kabam',\n",
       "  'offices': [{'country_code': 'USA',\n",
       "    'latitude': 37.3944561,\n",
       "    'longitude': -122.0785314}]},\n",
       " {'name': 'Boonty',\n",
       "  'offices': [{'country_code': 'USA',\n",
       "    'latitude': 40.717248,\n",
       "    'longitude': -74.002662}]},\n",
       " {'name': 'TuneWiki',\n",
       "  'offices': [{'country_code': 'USA',\n",
       "    'latitude': 37.412577,\n",
       "    'longitude': -121.916861}]}]"
      ]
     },
     "execution_count": 14,
     "metadata": {},
     "output_type": "execute_result"
    }
   ],
   "source": [
    "for n,seed in enumerate(seeds):\n",
    "    for i,office in enumerate(seed[\"offices\"]):\n",
    "        if office[\"latitude\"] == None:\n",
    "            del seed[\"offices\"][i]\n",
    "        if len(seed[\"offices\"])==0:\n",
    "            del seeds[n]\n",
    "seeds"
   ]
  },
  {
   "cell_type": "code",
   "execution_count": 1,
   "id": "07fae775",
   "metadata": {},
   "outputs": [],
   "source": [
    "def geocode(direccion):\n",
    "    \"\"\"\n",
    "    Esta función saca las coordenadas de la dirección que le pases\n",
    "    \"\"\"\n",
    "    data = requests.get(f\"https://geocode.xyz/{direccion}?json=1\").json()\n",
    "    try:\n",
    "        return {\n",
    "            \"type\": \"Point\",\n",
    "            \"coordinates\": [data[\"latt\"], data[\"longt\"]]\n",
    "        }\n",
    "    \n",
    "    except:\n",
    "        return data"
   ]
  }
 ],
 "metadata": {
  "kernelspec": {
   "display_name": "Python 3 (ipykernel)",
   "language": "python",
   "name": "python3"
  },
  "language_info": {
   "codemirror_mode": {
    "name": "ipython",
    "version": 3
   },
   "file_extension": ".py",
   "mimetype": "text/x-python",
   "name": "python",
   "nbconvert_exporter": "python",
   "pygments_lexer": "ipython3",
   "version": "3.8.10"
  }
 },
 "nbformat": 4,
 "nbformat_minor": 5
}
